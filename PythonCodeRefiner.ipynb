{
  "nbformat": 4,
  "nbformat_minor": 0,
  "metadata": {
    "colab": {
      "provenance": [],
      "authorship_tag": "ABX9TyPEa4S364umfIX/Zzf1X6Qk",
      "include_colab_link": true
    },
    "kernelspec": {
      "name": "python3",
      "display_name": "Python 3"
    },
    "language_info": {
      "name": "python"
    }
  },
  "cells": [
    {
      "cell_type": "markdown",
      "metadata": {
        "id": "view-in-github",
        "colab_type": "text"
      },
      "source": [
        "<a href=\"https://colab.research.google.com/github/sbowma15/PythonCodeRefiner/blob/main/PythonCodeRefiner.ipynb\" target=\"_parent\"><img src=\"https://colab.research.google.com/assets/colab-badge.svg\" alt=\"Open In Colab\"/></a>"
      ]
    },
    {
      "cell_type": "code",
      "execution_count": null,
      "metadata": {
        "colab": {
          "base_uri": "https://localhost:8080/"
        },
        "id": "UNK1K78HCcj8",
        "outputId": "f46c8a39-654e-461b-c04a-b10774f9d15f"
      },
      "outputs": [
        {
          "output_type": "stream",
          "name": "stdout",
          "text": [
            "Enter your Python code: Print\"hello world\"\n",
            "Processing complete. Check 'output.txt' for the results.\n"
          ]
        }
      ],
      "source": [
        "import re\n",
        "\n",
        "def check_indentation(code):\n",
        "    indentation_level = 0\n",
        "    fixed_code = []\n",
        "    for line in code.split(\"\\n\"):\n",
        "        stripped_line = line.lstrip()\n",
        "        if stripped_line.startswith(\"def\"):\n",
        "            indentation_level = 0\n",
        "        fixed_line = \" \" * (indentation_level * 4) + stripped_line\n",
        "        fixed_code.append(fixed_line)\n",
        "        if stripped_line.startswith(\" \"):\n",
        "            indentation_level += 1\n",
        "        if stripped_line.startswith(\"return\"):\n",
        "            indentation_level -= 1\n",
        "    return \"\\n\".join(fixed_code)\n",
        "\n",
        "def check_function_header(code):\n",
        "    fixed_code = []\n",
        "    for line in code.split(\"\\n\"):\n",
        "        if line.startswith(\"def\"):\n",
        "            match = re.search(\"def (\\w+)\\((.*)\\):\", line)\n",
        "            if match:\n",
        "                function_name = match.group(1)\n",
        "                arguments = match.group(2)\n",
        "                fixed_line = f\"def {function_name}({arguments}):\"\n",
        "                fixed_code.append(fixed_line)\n",
        "        else:\n",
        "            fixed_code.append(line)\n",
        "    return \"\\n\".join(fixed_code)\n",
        "\n",
        "def count_print_keyword(code):\n",
        "    return code.count(\"print(\")\n",
        "\n",
        "def process_code(code):\n",
        "    fixed_code = check_indentation(code)\n",
        "    fixed_code = check_function_header(fixed_code)\n",
        "    print_count = count_print_keyword(fixed_code)\n",
        "    return fixed_code, print_count\n",
        "\n",
        "def write_to_file(input_code, output_code, print_count):\n",
        "    with open(\"output.txt\", \"w\") as f:\n",
        "        f.write(\"Original code:\\n\")\n",
        "        f.write(input_code)\n",
        "        f.write(\"\\n\\n\")\n",
        "        f.write(\"Updated code:\\n\")\n",
        "        f.write(output_code)\n",
        "        f.write(\"\\n\\n\")\n",
        "        f.write(f\"The keyword 'print' was used {print_count} times.\")\n",
        "\n",
        "if __name__ == \"__main__\":\n",
        "    code = input(\"Enter your Python code: \")\n",
        "    fixed_code, print_count = process_code(code)\n",
        "    write_to_file(code, fixed_code, print_count)\n",
        "    print(\"Processing complete. Check 'output.txt' for the results.\")\n"
      ]
    }
  ]
}